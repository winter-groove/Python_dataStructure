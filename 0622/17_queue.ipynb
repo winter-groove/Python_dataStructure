{
 "cells": [
  {
   "cell_type": "code",
   "execution_count": 12,
   "id": "ed83ddf7",
   "metadata": {},
   "outputs": [],
   "source": [
    "class Queue:\n",
    "    def __init__(self, size = 5):\n",
    "        self.queue = []  # 큐 => 빈 리스트 => append()로 데이터 추가\n",
    "        self.size = size # 큐의 크기\n",
    "        self.rear = 0    # 큐의 뒤쪽 포인터 => 큐에 데이터가 입력될 때 마다 1씩 증가한다.\n",
    "        self.front = 0   # 큐의 앞쪽 포인터 => 큐에서 데이터가 제거될 때 마다 1씩 증가한다.\n",
    "        \n",
    "    # add => 입력\n",
    "    def add(self, data):\n",
    "        if data not in self.queue: # 큐에 추가하려는 데이터가 큐에 존재하지 않는가?\n",
    "            # 큐에 추가하려는 데이터가 큐에 존재하지 않으므로 큐에 데이터를 추가한다.\n",
    "            # overflow 인가 검사한다.\n",
    "            # 큐의 크기(self.size)가 5일때 큐로 사용할 리스트의 인덱스(self.top)는 0, 1, 2, 3, 4만 사용할 수 있다.\n",
    "            if self.size > self.rear:\n",
    "                # overflow가 발생되지 않았으므로 큐에 데이터를 저장한다.\n",
    "                self.queue.append(data)\n",
    "                # 큐에 데이터를 저장했으므로 rear를 1증가시킨다.\n",
    "                self.rear += 1\n",
    "            else:\n",
    "                # overflow가 발생되면 큐이 가득찼다는 메시지를 출력한다.\n",
    "                print('overflow 발생... 큐가 가득차서 {}(을)를 저장할 수 없습니다.'.format(data))\n",
    "            # ===== if self.size > self.top\n",
    "        else:\n",
    "            # 추가하려는 데이터가 큐에 존재하기 때문에 중복되는 데이터라고 메시지를 출력한다.\n",
    "            print('{}(는)은 중복되는 데이터입니다.'.format(data))\n",
    "        # ===== if data not in self.queue\n",
    "        # 큐에 저장된 데이터를 출력하는 메소드를 실행한다.\n",
    "        self.view() # 현재 클래스의 다른 함수를 실행할 때는 반드시 앞에 self를 붙여서 실행한다.\n",
    "    \n",
    "    # remove => 출력\n",
    "    \n",
    "    # view => 보기\n",
    "    def view(self):\n",
    "        # 큐에 저장된 데이터를 출력한다.\n",
    "        print('큐에 저장된 데이터 => ', end='')\n",
    "        # underflow 인가 검사한다.\n",
    "        # 1. 큐에 데이터가 1건도 입력되지 않았을 경우 rear가 0이므로 underflow가 발생된다.\n",
    "        # 2. 큐에 데이터가 입력된 후 입력된 데이터가 모두 제거되면 rear와 front가 같아지면서 underflow가 발생된다.\n",
    "        if self.rear <= 0 or self.rear == self.front:\n",
    "            # 큐에 저장된 데이터가 없으므로 없다고 출력한다.\n",
    "            print('없음', end='')\n",
    "        else:\n",
    "            # 큐에 저장된 데이터의 개수만큼 반복하며 큐에 저장된 데이터를 출력한다.\n",
    "            for i in range(self.front, self.rear):\n",
    "                print(self.queue[i], end=' ')\n",
    "        # ===== if self.top <= 0\n",
    "        print()"
   ]
  },
  {
   "cell_type": "code",
   "execution_count": 14,
   "id": "4677403b",
   "metadata": {},
   "outputs": [
    {
     "name": "stdout",
     "output_type": "stream",
     "text": [
      "큐에 저장된 데이터 => 없음\n",
      "큐에 저장된 데이터 => 111 \n",
      "111(는)은 중복되는 데이터입니다.\n",
      "큐에 저장된 데이터 => 111 \n",
      "큐에 저장된 데이터 => 111 888 \n",
      "큐에 저장된 데이터 => 111 888 333 \n",
      "큐에 저장된 데이터 => 111 888 333 999 \n",
      "큐에 저장된 데이터 => 111 888 333 999 444 \n",
      "overflow 발생... 큐가 가득차서 777(을)를 저장할 수 없습니다.\n",
      "큐에 저장된 데이터 => 111 888 333 999 444 \n",
      "큐에 저장된 데이터 => 111 888 333 999 444 \n"
     ]
    }
   ],
   "source": [
    "queue = Queue()\n",
    "queue.view()\n",
    "queue.add(111)\n",
    "queue.add(111)\n",
    "queue.add(888)\n",
    "queue.add(333)\n",
    "queue.add(999)\n",
    "queue.add(444)\n",
    "queue.add(777)\n",
    "queue.view()"
   ]
  },
  {
   "cell_type": "code",
   "execution_count": null,
   "id": "e14eaa68",
   "metadata": {},
   "outputs": [],
   "source": []
  },
  {
   "cell_type": "code",
   "execution_count": null,
   "id": "8e5a9dcd",
   "metadata": {},
   "outputs": [],
   "source": []
  },
  {
   "cell_type": "code",
   "execution_count": null,
   "id": "0d1500ed",
   "metadata": {},
   "outputs": [],
   "source": []
  },
  {
   "cell_type": "code",
   "execution_count": null,
   "id": "083eda2a",
   "metadata": {},
   "outputs": [],
   "source": []
  },
  {
   "cell_type": "code",
   "execution_count": null,
   "id": "fb328dec",
   "metadata": {},
   "outputs": [],
   "source": []
  },
  {
   "cell_type": "code",
   "execution_count": null,
   "id": "99545afd",
   "metadata": {},
   "outputs": [],
   "source": []
  },
  {
   "cell_type": "code",
   "execution_count": null,
   "id": "e1eeeecc",
   "metadata": {},
   "outputs": [],
   "source": []
  },
  {
   "cell_type": "code",
   "execution_count": null,
   "id": "1635d3cd",
   "metadata": {},
   "outputs": [],
   "source": []
  }
 ],
 "metadata": {
  "kernelspec": {
   "display_name": "Python 3",
   "language": "python",
   "name": "python3"
  },
  "language_info": {
   "codemirror_mode": {
    "name": "ipython",
    "version": 3
   },
   "file_extension": ".py",
   "mimetype": "text/x-python",
   "name": "python",
   "nbconvert_exporter": "python",
   "pygments_lexer": "ipython3",
   "version": "3.9.5"
  }
 },
 "nbformat": 4,
 "nbformat_minor": 5
}
