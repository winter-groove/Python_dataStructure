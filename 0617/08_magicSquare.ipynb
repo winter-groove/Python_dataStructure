{
 "cells": [
  {
   "cell_type": "markdown",
   "id": "f87add24",
   "metadata": {},
   "source": [
    "마방진(가로, 세로, 대각선 방향의 모든 숫자 합계가 모두 같은 배열) 만들기  \n",
    "최초의 '1'이 채워지는 자리는 첫 줄 정 가운데 열이다. => 홀수차 정방행렬(행과 열의 개수가 같은 행렬)만 가능하다.  \n",
    "직전에 채워진 숫자 값에 따라 다음에 채워질 숫자의 위치가 결정된다.  \n",
    "직전에 채워진 숫자가 행렬의 차수(n)의 배수면 다음 숫자는 아래줄에 채운다. => 행 + 1  \n",
    "직전에 채워진 숫자가 행렬의 차수(n)의 배수가 아니면 숫자는 오른쪽 위 방향으로 채운다. => 행 - 1, 열 + 1  \n",
    "행이 0보다 작아지면 행의 위치를 마지막 위치로 변경한 후 채우고 열이 행렬의 차수와 같아지면 열의 위치를 0으로 변경한다."
   ]
  },
  {
   "cell_type": "code",
   "execution_count": 1,
   "id": "259975b2",
   "metadata": {},
   "outputs": [
    {
     "data": {
      "image/png": "[encoded data removed]",
      "text/plain": [
       "<IPython.core.display.Image object>"
      ]
     },
     "execution_count": 1,
     "metadata": {
      "image/png": {
       "width": "800"
      }
     },
     "output_type": "execute_result"
    }
   ],
   "source": [
    "from IPython.display import Image\n",
    "Image('./magicSquare.png', width='800')"
   ]
  },
  {
   "cell_type": "code",
   "execution_count": 2,
   "id": "df4a445a",
   "metadata": {},
   "outputs": [
    {
     "name": "stdout",
     "output_type": "stream",
     "text": [
      "[0, 0, 0, 0, 0]\n",
      "[[0, 0, 0, 0, 0], [0, 0, 0, 0, 0], [0, 0, 0, 0, 0], [0, 0, 0, 0, 0], [0, 0, 0, 0, 0]]\n"
     ]
    }
   ],
   "source": [
    "# 1차원 리스트 만들기\n",
    "a = [0 for i in range(5)] # 0이 5번 반복되는 1차원 리스트\n",
    "print(a)\n",
    "# 2차원 리스트 만들기 => 리스트이름 = [[0] * 열의개수 for 변수 in range(행의개수)]\n",
    "b = [[0] * 5 for i in range(5)]\n",
    "print(b)"
   ]
  },
  {
   "cell_type": "code",
   "execution_count": 3,
   "id": "4554904e",
   "metadata": {},
   "outputs": [
    {
     "name": "stdout",
     "output_type": "stream",
     "text": [
      " 0  0  0  0  0 \n",
      " 0  0  0  0  0 \n",
      " 0  0  0  0  0 \n",
      " 0  0  0  0  0 \n",
      " 0  0  0  0  0 \n"
     ]
    }
   ],
   "source": [
    "for i in range(5):\n",
    "    for j in range(5):\n",
    "        # print('i = {}, j = {}'.format(i, j), end=' # ')\n",
    "        print('{0:2d} '.format(b[i][j]), end='')\n",
    "    print()"
   ]
  },
  {
   "cell_type": "code",
   "execution_count": 6,
   "id": "f6147d79",
   "metadata": {},
   "outputs": [
    {
     "name": "stdout",
     "output_type": "stream",
     "text": [
      "17 24  1  8 15 \n",
      "23  5  7 14 16 \n",
      " 4  6 13 20 22 \n",
      "10 12 19 21  3 \n",
      "11 18 25  2  9 \n"
     ]
    }
   ],
   "source": [
    "a = [[0] * 5 for i in range(5)]\n",
    "# 5행 5열일 경우 최초의 '1'이 채워질 위치를 정한다.\n",
    "i = 0 # 행\n",
    "j = 2 # 열\n",
    "\n",
    "for k in range(1, 26):\n",
    "    a[i][j] = k\n",
    "    # 마방진에 채운 숫자가 5의 배수인가 판단한다.\n",
    "    if k % 5 == 0:\n",
    "        # 5의 배수면 다음에 채워질 숫자의 위치는 행만 1증가시킨다.\n",
    "        i += 1\n",
    "    else:\n",
    "        # 5의 배수가 아니면 다음에 채워질 숫자의 위치는 행은 1감소, 열은 1증가시킨다.\n",
    "        i -= 1\n",
    "        # 행이 감소하다 0보다 작아지면 마지막 행으로 행의 위치를 조정한다.\n",
    "        if i < 0:\n",
    "            i = 4\n",
    "        j += 1\n",
    "        # 열이 증가하다 5가되면 첫 번째 열로 열의 위치를 조정한다.\n",
    "        if j >= 5:\n",
    "            j = 0\n",
    "# ===== for k in range(1, 26)\n",
    "\n",
    "for i in range(5):\n",
    "    for j in range(5):\n",
    "        print('{0:2d} '.format(a[i][j]), end='')\n",
    "    print()"
   ]
  },
  {
   "cell_type": "code",
   "execution_count": 20,
   "id": "0ca625c9",
   "metadata": {},
   "outputs": [
    {
     "name": "stdout",
     "output_type": "stream",
     "text": [
      "3이상인 홀수를 입력하세요: 15\n",
      "122 139 156 173 190 207 224   1  18  35  52  69  86 103 120 \n",
      "138 155 172 189 206 223  15  17  34  51  68  85 102 119 121 \n",
      "154 171 188 205 222  14  16  33  50  67  84 101 118 135 137 \n",
      "170 187 204 221  13  30  32  49  66  83 100 117 134 136 153 \n",
      "186 203 220  12  29  31  48  65  82  99 116 133 150 152 169 \n",
      "202 219  11  28  45  47  64  81  98 115 132 149 151 168 185 \n",
      "218  10  27  44  46  63  80  97 114 131 148 165 167 184 201 \n",
      "  9  26  43  60  62  79  96 113 130 147 164 166 183 200 217 \n",
      " 25  42  59  61  78  95 112 129 146 163 180 182 199 216   8 \n",
      " 41  58  75  77  94 111 128 145 162 179 181 198 215   7  24 \n",
      " 57  74  76  93 110 127 144 161 178 195 197 214   6  23  40 \n",
      " 73  90  92 109 126 143 160 177 194 196 213   5  22  39  56 \n",
      " 89  91 108 125 142 159 176 193 210 212   4  21  38  55  72 \n",
      "105 107 124 141 158 175 192 209 211   3  20  37  54  71  88 \n",
      "106 123 140 157 174 191 208 225   2  19  36  53  70  87 104 \n"
     ]
    }
   ],
   "source": [
    "# 작성할 마방진의 차수를 3이상인 홀수로 입력받는다.\n",
    "while True:\n",
    "    n = int(input('3이상인 홀수를 입력하세요: '))\n",
    "    if n >= 3 and n % 2 == 1:\n",
    "        break\n",
    "    print('3이상인 홀수를 입력해야 합니다.')\n",
    "    \n",
    "# n행 n열인 2차원 리스트를 만든다.\n",
    "a = [[0] * n for i in range(n)]\n",
    "\n",
    "# 최초의 '1'이 채워질 위치를 계산한다.\n",
    "i = 0\n",
    "j = n // 2\n",
    "\n",
    "# n차 마방진에 숫자를 채워 출력한다.\n",
    "for k in range(1, n ** 2 + 1):\n",
    "    a[i][j] = k\n",
    "    if k % n == 0:\n",
    "        i += 1\n",
    "    else:\n",
    "        i -= 1\n",
    "        if i < 0:\n",
    "            i = n - 1\n",
    "        j += 1\n",
    "        if j >= n:\n",
    "            j = 0\n",
    "            \n",
    "for i in range(n):\n",
    "    for j in range(n):\n",
    "        print('{0:3d} '.format(a[i][j]), end='')\n",
    "    print()"
   ]
  },
  {
   "cell_type": "code",
   "execution_count": null,
   "id": "350da1a8",
   "metadata": {},
   "outputs": [],
   "source": []
  },
  {
   "cell_type": "code",
   "execution_count": null,
   "id": "f5cd508c",
   "metadata": {},
   "outputs": [],
   "source": []
  },
  {
   "cell_type": "code",
   "execution_count": null,
   "id": "d8f151b9",
   "metadata": {},
   "outputs": [],
   "source": []
  },
  {
   "cell_type": "code",
   "execution_count": null,
   "id": "c53a11a5",
   "metadata": {},
   "outputs": [],
   "source": []
  },
  {
   "cell_type": "code",
   "execution_count": null,
   "id": "0122cd54",
   "metadata": {},
   "outputs": [],
   "source": []
  },
  {
   "cell_type": "code",
   "execution_count": null,
   "id": "d5b1b54d",
   "metadata": {},
   "outputs": [],
   "source": []
  }
 ],
 "metadata": {
  "kernelspec": {
   "display_name": "Python 3",
   "language": "python",
   "name": "python3"
  },
  "language_info": {
   "codemirror_mode": {
    "name": "ipython",
    "version": 3
   },
   "file_extension": ".py",
   "mimetype": "text/x-python",
   "name": "python",
   "nbconvert_exporter": "python",
   "pygments_lexer": "ipython3",
   "version": "3.9.5"
  }
 },
 "nbformat": 4,
 "nbformat_minor": 5
}
